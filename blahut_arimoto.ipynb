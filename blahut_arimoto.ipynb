{
 "cells": [
  {
   "cell_type": "markdown",
   "metadata": {},
   "source": [
    "# Tarea 3\n",
    "\n",
    "\n",
    "EL7024 - Teoría de Información: Fundamentos y Aplicaciones\n",
    "\n",
    "Profesor: Jorge Silva\n",
    "Auxiliar: Sebastián Espinosa\n",
    "\n",
    "Autor: Martín Cornejo"
   ]
  },
  {
   "cell_type": "markdown",
   "metadata": {},
   "source": [
    "## Paquetes necesarios"
   ]
  },
  {
   "cell_type": "code",
   "execution_count": 14,
   "metadata": {},
   "outputs": [],
   "source": [
    "import numpy as np\n",
    "import matplotlib.pyplot as plt\n",
    "import math\n",
    "import pdb"
   ]
  },
  {
   "cell_type": "markdown",
   "metadata": {},
   "source": [
    "## Algoritmo Blahut-Arimoto"
   ]
  },
  {
   "cell_type": "code",
   "execution_count": 16,
   "metadata": {},
   "outputs": [],
   "source": [
    "def blahut_arimoto(probC, matrizTransicion):\n",
    "    Iu=1\n",
    "    Il=0\n",
    "    error = 0.00001\n",
    "    N, M = matrizTransicion.shape\n",
    "    qy = np.matmul(matrizTransicion, probC)\n",
    "    F = np.zeros(M)\n",
    "    while True:\n",
    "        for idx in range(M):\n",
    "            temp = 0\n",
    "            for idy in range(N):\n",
    "                temp += matrizTransicion[idy, idx]*np.log(matrizTransicion[idy, idx] / qy[idy] + 0.000001)[0]\n",
    "            \n",
    "            F[idx] = np.exp(temp)\n",
    "        \n",
    "        x = np.matmul(F, probC)[0]\n",
    "        Il = np.log2(x)\n",
    "        Iu = np.log2(np.amax(F))\n",
    "        \n",
    "        if (Iu - Il) < error:\n",
    "            channel_cap = Il\n",
    "            #print(\"prob r(x)\")\n",
    "            #print(probC)\n",
    "            return channel_cap            \n",
    "        else:\n",
    "            probC = np.multiply(np.reshape(np.multiply(F, 1/x), (2,1)), probC)\n",
    "            qy = np.matmul(matrizTransicion, probC)"
   ]
  },
  {
   "cell_type": "markdown",
   "metadata": {},
   "source": [
    "## P1 b)"
   ]
  },
  {
   "cell_type": "code",
   "execution_count": 17,
   "metadata": {},
   "outputs": [],
   "source": [
    "capacities = []\n",
    "\n",
    "alphas = np.linspace(0.0001, 0.9999, 100)\n",
    "for alpha in alphas:\n",
    "    matrizT = np.transpose(np.array([(1-alpha, alpha/2, alpha/2),(alpha/2, alpha/2, 1 - alpha)]))\n",
    "    N, M = matrizT.shape\n",
    "    probC = np.ones((M, 1))\n",
    "    probC[0,0] = 1/3\n",
    "    probC[1,0] = 2/3\n",
    "    capacities.append(blahut_arimoto(probC, matrizT))"
   ]
  },
  {
   "cell_type": "code",
   "execution_count": 18,
   "metadata": {},
   "outputs": [
    {
     "data": {
      "image/png": "[encoded data removed]",
      "text/plain": [
       "<Figure size 432x288 with 1 Axes>"
      ]
     },
     "metadata": {},
     "output_type": "display_data"
    }
   ],
   "source": [
    "plt.grid()\n",
    "plt.yticks(np.arange(0, 1.1, step=0.1))\n",
    "plt.xticks(np.arange(0, 1.1, step=0.1))\n",
    "plt.plot(alphas,capacities, 'b.')\n",
    "plt.xlabel(\"alfa\")\n",
    "plt.ylabel(\"Capacidad [bits]\")\n",
    "plt.savefig(\"capacidad_alfa.pdf\")"
   ]
  },
  {
   "cell_type": "markdown",
   "metadata": {},
   "source": [
    "## P2 c)"
   ]
  },
  {
   "cell_type": "code",
   "execution_count": 69,
   "metadata": {},
   "outputs": [],
   "source": [
    "capacities = []\n",
    "\n",
    "nCascadas = np.linspace(1, 10, 10)\n",
    "pBSC = 0.2\n",
    "pBar = lambda n : 1/2*(1 - np.power((1 - 2*pBSC), n))\n",
    "\n",
    "for nCascada in nCascadas:\n",
    "    matrizT = np.transpose(np.array([(1-pBar(nCascada), pBar(nCascada)),(pBar(nCascada), 1 - pBar(nCascada))]))\n",
    "    N, M = matrizT.shape\n",
    "    probC = np.ones((M, 1))\n",
    "    probC[0,0] = 1/2\n",
    "    probC[1,0] = 1/2\n",
    "    capacities.append(blahut_arimoto(probC, matrizT))"
   ]
  },
  {
   "cell_type": "code",
   "execution_count": 70,
   "metadata": {},
   "outputs": [
    {
     "data": {
      "image/png": "[encoded data removed]",
      "text/plain": [
       "<Figure size 432x288 with 1 Axes>"
      ]
     },
     "metadata": {},
     "output_type": "display_data"
    }
   ],
   "source": [
    "plt.grid()\n",
    "plt.yticks(np.arange(0, 0.3, step=0.02))\n",
    "plt.xticks(np.arange(0, 11, step=1))\n",
    "plt.plot(nCascadas,capacities, 'b.')\n",
    "plt.xlabel(\"n\")\n",
    "plt.ylabel(\"Capacidad [bits]\")\n",
    "plt.savefig(\"capacidad_cascada.pdf\")"
   ]
  }
 ],
 "metadata": {
  "kernelspec": {
   "display_name": "Python 3",
   "language": "python",
   "name": "python3"
  },
  "language_info": {
   "codemirror_mode": {
    "name": "ipython",
    "version": 3
   },
   "file_extension": ".py",
   "mimetype": "text/x-python",
   "name": "python",
   "nbconvert_exporter": "python",
   "pygments_lexer": "ipython3",
   "version": "3.5.2"
  }
 },
 "nbformat": 4,
 "nbformat_minor": 2
}
