{
 "cells": [
  {
   "cell_type": "markdown",
   "metadata": {
    "colab_type": "text",
    "id": "bBrqASsw-dht"
   },
   "source": [
    "# Clasificación de textos utilizando Codificación Universal (compresión)\n",
    "\n",
    "En el presente trabajo se utilizaron textos del dataset http://qwone.com/~jason/20Newsgroups/"
   ]
  },
  {
   "cell_type": "markdown",
   "metadata": {
    "colab_type": "text",
    "id": "Rmr1pc4E-lrz"
   },
   "source": [
    "### scripts para poder pasar archivos del drive a Colab"
   ]
  },
  {
   "cell_type": "code",
   "execution_count": 37,
   "metadata": {
    "colab": {
     "base_uri": "https://localhost:8080/",
     "height": 122
    },
    "colab_type": "code",
    "id": "6rxLNDb0fCyJ",
    "outputId": "a638e085-139c-412e-9ed2-15d71a6dabf9"
   },
   "outputs": [
    {
     "name": "stdout",
     "output_type": "stream",
     "text": [
      "gpg: keybox '/tmp/tmp8akonqfc/pubring.gpg' created\n",
      "gpg: /tmp/tmp8akonqfc/trustdb.gpg: trustdb created\n",
      "gpg: key AD5F235DF639B041: public key \"Launchpad PPA for Alessandro Strada\" imported\n",
      "gpg: Total number processed: 1\n",
      "gpg:               imported: 1\n",
      "Warning: apt-key output should not be parsed (stdout is not a terminal)\n"
     ]
    }
   ],
   "source": [
    "!apt-get update -qq 2>&1 > /dev/null\n",
    "!apt-get install -y -qq software-properties-common python-software-properties module-init-tools\n",
    "!add-apt-repository -y ppa:alessandro-strada/ppa 2>&1 > /dev/null\n",
    "!apt-get update -qq 2>&1 > /dev/null\n",
    "!apt-get -y install -qq google-drive-ocamlfuse fuse"
   ]
  },
  {
   "cell_type": "code",
   "execution_count": 0,
   "metadata": {
    "colab": {},
    "colab_type": "code",
    "id": "kV_pFzH8fFb8"
   },
   "outputs": [],
   "source": [
    "!pip install -U -q PyDrive ## you will have install for every colab session\n",
    "\n",
    "from pydrive.auth import GoogleAuth\n",
    "from pydrive.drive import GoogleDrive\n",
    "from google.colab import auth\n",
    "from oauth2client.client import GoogleCredentials\n",
    "\n",
    "# 1. Authenticate and create the PyDrive client.\n",
    "auth.authenticate_user()\n",
    "\n",
    "\n",
    "creds = GoogleCredentials.get_application_default()\n",
    "import getpass\n",
    "# Work around misordering of STREAM and STDIN in Jupyter.\n",
    "# https://github.com/jupyter/notebook/issues/3159\n",
    "prompt = !google-drive-ocamlfuse -headless -id={creds.client_id} -secret={creds.client_secret} < /dev/null 2>&1 | grep URL\n",
    "vcode = getpass.getpass(prompt[0] + '\\n\\nEnter verification code: ')\n",
    "!echo {vcode} | google-drive-ocamlfuse -headless -id={creds.client_id} -secret={creds.client_secret}"
   ]
  },
  {
   "cell_type": "code",
   "execution_count": 0,
   "metadata": {
    "colab": {},
    "colab_type": "code",
    "id": "Leoy0G3mfHMc"
   },
   "outputs": [],
   "source": [
    "# Create a directory and mount Google Drive using that directory.\n",
    "!mkdir -p drive\n",
    "!google-drive-ocamlfuse drive\n",
    "\n",
    "print 'Files in Drive:'\n",
    "!ls drive"
   ]
  },
  {
   "cell_type": "code",
   "execution_count": 0,
   "metadata": {
    "colab": {},
    "colab_type": "code",
    "id": "_Ra-qszhhsjh"
   },
   "outputs": [],
   "source": [
    "import os\n",
    "import pdb\n",
    "\n",
    "!rm -r teo_info/\n",
    "!cp -r drive/teo_info/ teo_info/\n",
    "os.chdir('teo_info')"
   ]
  },
  {
   "cell_type": "markdown",
   "metadata": {
    "colab_type": "text",
    "id": "6wM5Vw-V_IxH"
   },
   "source": [
    "Se utiliza la herramienta $\\textit{7z}$ para comprimir"
   ]
  },
  {
   "cell_type": "markdown",
   "metadata": {
    "colab_type": "text",
    "id": "qoAbHwMG_B9M"
   },
   "source": [
    "### Para descomprimir la data"
   ]
  },
  {
   "cell_type": "code",
   "execution_count": 0,
   "metadata": {
    "colab": {},
    "colab_type": "code",
    "id": "EEf9i4p-kw0g"
   },
   "outputs": [],
   "source": [
    "!7z x comp.7z -ocomp/\n",
    "!7z x rec.7z -orec/\n",
    "!7z x sci.7z -osci/\n",
    "!7z x politics.7z -opolitics/\n",
    "\n",
    "!rm *.7z"
   ]
  },
  {
   "cell_type": "code",
   "execution_count": 24,
   "metadata": {
    "colab": {
     "base_uri": "https://localhost:8080/",
     "height": 34
    },
    "colab_type": "code",
    "id": "u6LqiYjYEqXK",
    "outputId": "03d1c1fc-1e34-4f24-90e7-6fca7bc6ca0a"
   },
   "outputs": [
    {
     "name": "stdout",
     "output_type": "stream",
     "text": [
      "-rw-r--r-- 1 root root 1376673 Aug 19 15:44 rec.7z\r\n"
     ]
    }
   ],
   "source": [
    "!ls -l rec.7z"
   ]
  },
  {
   "cell_type": "markdown",
   "metadata": {
    "colab_type": "text",
    "id": "47-YNm_k-zyQ"
   },
   "source": [
    "### Es necesario comprimir con el comando 7z para las pruebas"
   ]
  },
  {
   "cell_type": "code",
   "execution_count": 67,
   "metadata": {
    "colab": {
     "base_uri": "https://localhost:8080/",
     "height": 70
    },
    "colab_type": "code",
    "id": "k5jq84xie6j5",
    "outputId": "42ff15fb-62fc-47a6-d6ab-7ce3bd1ea5af"
   },
   "outputs": [
    {
     "name": "stdout",
     "output_type": "stream",
     "text": [
      "0  3\t\t    comp.7z\t rec\t sci.7z\r\n",
      "1  clasificador.py  politics\t rec.7z  teo_info_clasificacion.ipynb\r\n",
      "2  comp\t\t    politics.7z  sci\r\n"
     ]
    }
   ],
   "source": [
    "!7z a -t7z comp.7z comp/\n",
    "!7z a -t7z rec.7z rec/\n",
    "!7z a -t7z politics.7z politics/\n",
    "!7z a -t7z sci.7z sci/\n",
    "!ls"
   ]
  },
  {
   "cell_type": "markdown",
   "metadata": {
    "colab_type": "text",
    "id": "NADZhzb995sm"
   },
   "source": [
    "## Algoritmo de clasificación"
   ]
  },
  {
   "cell_type": "markdown",
   "metadata": {
    "colab_type": "text",
    "id": "NAJUZUNF_WWz"
   },
   "source": [
    "El siguiente algoritmo esta pensado para 4 topicos, pero se puede extender facilmente, solo se deben agregar más topicos al diccionario inicial y a la lista de topicos del ciclo $for$.\n",
    "Previamente se tiene que tener el conjunto a clasificar en las carpetas 0,1,2,3 las cuales sirven de etiqueta, para luego calcular el accuracy."
   ]
  },
  {
   "cell_type": "code",
   "execution_count": 68,
   "metadata": {
    "colab": {
     "base_uri": "https://localhost:8080/",
     "height": 5807
    },
    "colab_type": "code",
    "id": "hfAvbnaefAZB",
    "outputId": "c61f4f0f-d2d5-49ed-abe4-1ebb9343e576"
   },
   "outputs": [
    {
     "name": "stdout",
     "output_type": "stream",
     "text": [
      "Cuenta: 1\n",
      "Cuenta: 2\n",
      "Cuenta: 3\n",
      "Cuenta: 4\n",
      "Cuenta: 5\n",
      "Cuenta: 6\n",
      "Cuenta: 7\n",
      "Cuenta: 8\n",
      "Cuenta: 9\n",
      "Cuenta: 10\n",
      "Cuenta: 11\n",
      "Cuenta: 12\n",
      "Cuenta: 13\n",
      "Cuenta: 14\n",
      "Cuenta: 15\n",
      "Cuenta: 16\n",
      "Cuenta: 17\n",
      "Cuenta: 18\n",
      "Cuenta: 19\n",
      "Cuenta: 20\n",
      "Cuenta: 21\n",
      "Cuenta: 22\n",
      "Cuenta: 23\n",
      "Cuenta: 24\n",
      "Cuenta: 25\n",
      "Cuenta: 26\n",
      "Cuenta: 27\n",
      "Cuenta: 28\n",
      "Cuenta: 29\n",
      "Cuenta: 30\n",
      "Cuenta: 31\n",
      "Cuenta: 32\n",
      "Cuenta: 33\n",
      "Cuenta: 34\n",
      "Cuenta: 35\n",
      "Cuenta: 36\n",
      "Cuenta: 37\n",
      "Cuenta: 38\n",
      "Cuenta: 39\n",
      "Cuenta: 40\n",
      "Cuenta: 41\n",
      "Cuenta: 42\n",
      "Cuenta: 43\n",
      "Cuenta: 44\n",
      "Cuenta: 45\n",
      "Cuenta: 46\n",
      "Cuenta: 47\n",
      "Cuenta: 48\n",
      "Cuenta: 49\n",
      "Cuenta: 50\n",
      "Cuenta: 51\n",
      "Cuenta: 52\n",
      "Cuenta: 53\n",
      "Cuenta: 54\n",
      "Cuenta: 55\n",
      "Cuenta: 56\n",
      "Cuenta: 57\n",
      "Cuenta: 58\n",
      "Cuenta: 59\n",
      "Cuenta: 60\n",
      "Cuenta: 61\n",
      "Cuenta: 62\n",
      "Cuenta: 63\n",
      "Cuenta: 64\n",
      "Cuenta: 65\n",
      "Cuenta: 66\n",
      "Cuenta: 67\n",
      "Cuenta: 68\n",
      "Cuenta: 69\n",
      "Cuenta: 70\n",
      "Cuenta: 71\n",
      "Cuenta: 72\n",
      "Cuenta: 73\n",
      "Cuenta: 74\n",
      "Cuenta: 75\n",
      "Cuenta: 76\n",
      "Cuenta: 77\n",
      "Cuenta: 78\n",
      "Cuenta: 79\n",
      "Cuenta: 80\n",
      "Topico: 0\n",
      "Cuenta: 81\n",
      "Cuenta: 82\n",
      "Cuenta: 83\n",
      "Cuenta: 84\n",
      "Cuenta: 85\n",
      "Cuenta: 86\n",
      "Cuenta: 87\n",
      "Cuenta: 88\n",
      "Cuenta: 89\n",
      "Cuenta: 90\n",
      "Cuenta: 91\n",
      "Cuenta: 92\n",
      "Cuenta: 93\n",
      "Cuenta: 94\n",
      "Cuenta: 95\n",
      "Cuenta: 96\n",
      "Cuenta: 97\n",
      "Cuenta: 98\n",
      "Cuenta: 99\n",
      "Cuenta: 100\n",
      "Cuenta: 101\n",
      "Cuenta: 102\n",
      "Cuenta: 103\n",
      "Cuenta: 104\n",
      "Cuenta: 105\n",
      "Cuenta: 106\n",
      "Cuenta: 107\n",
      "Cuenta: 108\n",
      "Cuenta: 109\n",
      "Cuenta: 110\n",
      "Cuenta: 111\n",
      "Cuenta: 112\n",
      "Cuenta: 113\n",
      "Cuenta: 114\n",
      "Cuenta: 115\n",
      "Cuenta: 116\n",
      "Cuenta: 117\n",
      "Cuenta: 118\n",
      "Cuenta: 119\n",
      "Cuenta: 120\n",
      "Cuenta: 121\n",
      "Cuenta: 122\n",
      "Cuenta: 123\n",
      "Cuenta: 124\n",
      "Cuenta: 125\n",
      "Cuenta: 126\n",
      "Cuenta: 127\n",
      "Cuenta: 128\n",
      "Cuenta: 129\n",
      "Cuenta: 130\n",
      "Cuenta: 131\n",
      "Cuenta: 132\n",
      "Cuenta: 133\n",
      "Cuenta: 134\n",
      "Cuenta: 135\n",
      "Cuenta: 136\n",
      "Cuenta: 137\n",
      "Cuenta: 138\n",
      "Cuenta: 139\n",
      "Cuenta: 140\n",
      "Cuenta: 141\n",
      "Cuenta: 142\n",
      "Cuenta: 143\n",
      "Cuenta: 144\n",
      "Cuenta: 145\n",
      "Cuenta: 146\n",
      "Cuenta: 147\n",
      "Cuenta: 148\n",
      "Cuenta: 149\n",
      "Cuenta: 150\n",
      "Cuenta: 151\n",
      "Cuenta: 152\n",
      "Cuenta: 153\n",
      "Cuenta: 154\n",
      "Cuenta: 155\n",
      "Cuenta: 156\n",
      "Cuenta: 157\n",
      "Cuenta: 158\n",
      "Cuenta: 159\n",
      "Cuenta: 160\n",
      "Topico: 1\n",
      "Cuenta: 161\n",
      "Cuenta: 162\n",
      "Cuenta: 163\n",
      "Cuenta: 164\n",
      "Cuenta: 165\n",
      "Cuenta: 166\n",
      "Cuenta: 167\n",
      "Cuenta: 168\n",
      "Cuenta: 169\n",
      "Cuenta: 170\n",
      "Cuenta: 171\n",
      "Cuenta: 172\n",
      "Cuenta: 173\n",
      "Cuenta: 174\n",
      "Cuenta: 175\n",
      "Cuenta: 176\n",
      "Cuenta: 177\n",
      "Cuenta: 178\n",
      "Cuenta: 179\n",
      "Cuenta: 180\n",
      "Cuenta: 181\n",
      "Cuenta: 182\n",
      "Cuenta: 183\n",
      "Cuenta: 184\n",
      "Cuenta: 185\n",
      "Cuenta: 186\n",
      "Cuenta: 187\n",
      "Cuenta: 188\n",
      "Cuenta: 189\n",
      "Cuenta: 190\n",
      "Cuenta: 191\n",
      "Cuenta: 192\n",
      "Cuenta: 193\n",
      "Cuenta: 194\n",
      "Cuenta: 195\n",
      "Cuenta: 196\n",
      "Cuenta: 197\n",
      "Cuenta: 198\n",
      "Cuenta: 199\n",
      "Cuenta: 200\n",
      "Cuenta: 201\n",
      "Cuenta: 202\n",
      "Cuenta: 203\n",
      "Cuenta: 204\n",
      "Cuenta: 205\n",
      "Cuenta: 206\n",
      "Cuenta: 207\n",
      "Cuenta: 208\n",
      "Cuenta: 209\n",
      "Cuenta: 210\n",
      "Cuenta: 211\n",
      "Cuenta: 212\n",
      "Cuenta: 213\n",
      "Cuenta: 214\n",
      "Cuenta: 215\n",
      "Cuenta: 216\n",
      "Cuenta: 217\n",
      "Cuenta: 218\n",
      "Cuenta: 219\n",
      "Cuenta: 220\n",
      "Cuenta: 221\n",
      "Cuenta: 222\n",
      "Cuenta: 223\n",
      "Cuenta: 224\n",
      "Cuenta: 225\n",
      "Cuenta: 226\n",
      "Cuenta: 227\n",
      "Cuenta: 228\n",
      "Cuenta: 229\n",
      "Cuenta: 230\n",
      "Cuenta: 231\n",
      "Cuenta: 232\n",
      "Cuenta: 233\n",
      "Cuenta: 234\n",
      "Cuenta: 235\n",
      "Cuenta: 236\n",
      "Cuenta: 237\n",
      "Cuenta: 238\n",
      "Cuenta: 239\n",
      "Cuenta: 240\n",
      "Topico: 2\n",
      "Cuenta: 241\n",
      "Cuenta: 242\n",
      "Cuenta: 243\n",
      "Cuenta: 244\n",
      "Cuenta: 245\n",
      "Cuenta: 246\n",
      "Cuenta: 247\n",
      "Cuenta: 248\n",
      "Cuenta: 249\n",
      "Cuenta: 250\n",
      "Cuenta: 251\n",
      "Cuenta: 252\n",
      "Cuenta: 253\n",
      "Cuenta: 254\n",
      "Cuenta: 255\n",
      "Cuenta: 256\n",
      "Cuenta: 257\n",
      "Cuenta: 258\n",
      "Cuenta: 259\n",
      "Cuenta: 260\n",
      "Cuenta: 261\n",
      "Cuenta: 262\n",
      "Cuenta: 263\n",
      "Cuenta: 264\n",
      "Cuenta: 265\n",
      "Cuenta: 266\n",
      "Cuenta: 267\n",
      "Cuenta: 268\n",
      "Cuenta: 269\n",
      "Cuenta: 270\n",
      "Cuenta: 271\n",
      "Cuenta: 272\n",
      "Cuenta: 273\n",
      "Cuenta: 274\n",
      "Cuenta: 275\n",
      "Cuenta: 276\n",
      "Cuenta: 277\n",
      "Cuenta: 278\n",
      "Cuenta: 279\n",
      "Cuenta: 280\n",
      "Cuenta: 281\n",
      "Cuenta: 282\n",
      "Cuenta: 283\n",
      "Cuenta: 284\n",
      "Cuenta: 285\n",
      "Cuenta: 286\n",
      "Cuenta: 287\n",
      "Cuenta: 288\n",
      "Cuenta: 289\n",
      "Cuenta: 290\n",
      "Cuenta: 291\n",
      "Cuenta: 292\n",
      "Cuenta: 293\n",
      "Cuenta: 294\n",
      "Cuenta: 295\n",
      "Cuenta: 296\n",
      "Cuenta: 297\n",
      "Cuenta: 298\n",
      "Cuenta: 299\n",
      "Cuenta: 300\n",
      "Cuenta: 301\n",
      "Cuenta: 302\n",
      "Cuenta: 303\n",
      "Cuenta: 304\n",
      "Cuenta: 305\n",
      "Cuenta: 306\n",
      "Cuenta: 307\n",
      "Cuenta: 308\n",
      "Cuenta: 309\n",
      "Cuenta: 310\n",
      "Cuenta: 311\n",
      "Cuenta: 312\n",
      "Cuenta: 313\n",
      "Cuenta: 314\n",
      "Cuenta: 315\n",
      "Cuenta: 316\n",
      "Cuenta: 317\n",
      "Cuenta: 318\n",
      "Cuenta: 319\n",
      "Cuenta: 320\n",
      "Topico: 3\n",
      "El accuracy final es 256 casos correctos de un total de 320\n",
      "Per topic correct: 55\n",
      "Per topic correct: 76\n",
      "Per topic correct: 62\n",
      "Per topic correct: 63\n"
     ]
    }
   ],
   "source": [
    "dict_equiv = {\n",
    "  '0':'comp',\n",
    "  '1':'politics',\n",
    "  '2':'rec',\n",
    "  '3':'sci'\n",
    "}\n",
    "\n",
    "total_cnt = 0\n",
    "correct_cases = 0\n",
    "correct_per_topic = []\n",
    "\n",
    "for x in ['0', '1', '2', '3']:\n",
    "  files = os.listdir(\"./\"+x)\n",
    "  c_per_topic = 0\n",
    "  for file in files:\n",
    "    file_path = x + \"/\" + file\n",
    "    diff = 999999999999999\n",
    "    min_topic = -1\n",
    "    \n",
    "    for idx, topic in enumerate(['comp', 'politics', 'rec', 'sci']):\n",
    "      os.system(\"7z a \" + topic + \"_test.7z \" + file_path + \" \" + topic)\n",
    "      \n",
    "      # se calcula la tasa de compresión condicional\n",
    "      # y se guarda la mínima\n",
    "      test_size = os.path.getsize(topic + \"_test.7z\")\n",
    "      orig_size = os.path.getsize(topic + \".7z\")\n",
    "      curr_diff = test_size - orig_size\n",
    "      \n",
    "      if (curr_diff < diff):\n",
    "        diff = curr_diff\n",
    "        min_topic = idx\n",
    "      os.system(\"rm \" + topic + \"_test.7z\")    \n",
    "    \n",
    "    total_cnt += 1\n",
    "    print(\"Cuenta: \" + str(total_cnt))\n",
    "\n",
    "    if (min_topic == int(x)):\n",
    "      c_per_topic += 1\n",
    "      correct_cases += 1    \n",
    "      \n",
    "    \n",
    "  print(\"Topico: \" + x)\n",
    "  correct_per_topic.append(c_per_topic)\n",
    "\n",
    "print(\"El accuracy final es \" + str(correct_cases) + \" casos correctos de un total de \" + str(total_cnt))\n",
    "for c_per_topic in correct_per_topic:\n",
    "  print(\"Per topic correct: \" + str(c_per_topic))"
   ]
  },
  {
   "cell_type": "markdown",
   "metadata": {},
   "source": [
    "# Convergencia del algoritmo de compresión"
   ]
  },
  {
   "cell_type": "markdown",
   "metadata": {},
   "source": [
    "Se estudia la convergencia del algoritmo, calculando la tasa de compresión condicional a medida que se agregan archivos a la compresión.\n",
    "En este caso se utilizó el tópico \"talk.politics.mideast\", eligiendo al azar un archivo del conjunto y comprimiendolo con otros archivos del mismo tópico. En teoría la tasa de compresión condicional se puede reducir asintóticamente a cero."
   ]
  },
  {
   "cell_type": "code",
   "execution_count": 20,
   "metadata": {},
   "outputs": [],
   "source": [
    "import os\n",
    "import pdb\n",
    "import matplotlib.pyplot as plt\n",
    "import numpy as np"
   ]
  },
  {
   "cell_type": "code",
   "execution_count": 3,
   "metadata": {},
   "outputs": [
    {
     "name": "stdout",
     "output_type": "stream",
     "text": [
      "19     set_1.7z  set_2.7z  set_3.7z  set_4.7z  set_5.7z\r\n",
      "set_1  set_2\t set_3\t   set_4     set_5\r\n"
     ]
    }
   ],
   "source": [
    "os.chdir('convergencia')\n",
    "!ls"
   ]
  },
  {
   "cell_type": "code",
   "execution_count": 7,
   "metadata": {},
   "outputs": [],
   "source": [
    "studySets = ['set_1', 'set_2', 'set_3', 'set_4', 'set_5']\n",
    "fileName = 'test_file'\n",
    "file_numbers = [50, 100, 200, 400, 800]"
   ]
  },
  {
   "cell_type": "code",
   "execution_count": 25,
   "metadata": {},
   "outputs": [],
   "source": [
    "list_sizes = []\n",
    "\n",
    "for curr_set in studySets:\n",
    "  os.system(\"7z a \" + curr_set + \"_test.7z \" + fileName + \" \" + curr_set)\n",
    "      \n",
    "  # se calcula la tasa de compresión condicional\n",
    "  # y se guarda en un arreglo\n",
    "  test_size = os.path.getsize(curr_set + \"_test.7z\")\n",
    "  orig_size = os.path.getsize(curr_set + \".7z\")\n",
    "  curr_diff = (test_size - orig_size)*1.0/1000\n",
    "  list_sizes.append(curr_diff)\n",
    "    \n",
    "  os.system(\"rm \" + curr_set + \"_test.7z\")"
   ]
  },
  {
   "cell_type": "code",
   "execution_count": 35,
   "metadata": {},
   "outputs": [
    {
     "data": {
      "image/png": "[encoded data removed]",
      "text/plain": [
       "<Figure size 432x288 with 1 Axes>"
      ]
     },
     "metadata": {},
     "output_type": "display_data"
    }
   ],
   "source": [
    "plt.figure()\n",
    "plt.grid()\n",
    "plt.plot(file_numbers,list_sizes, '.-g', markersize=15)\n",
    "plt.xticks([50,100,200,400,800])\n",
    "plt.yticks(np.arange(0, 35, step=2.5))\n",
    "plt.xlabel(\"N° de textos\")\n",
    "plt.ylabel(\"kBytes\")\n",
    "plt.savefig('convergencia.pdf')"
   ]
  }
 ],
 "metadata": {
  "colab": {
   "collapsed_sections": [],
   "name": "teo_info_clasificacion.ipynb",
   "provenance": [],
   "version": "0.3.2"
  },
  "kernelspec": {
   "display_name": "Python 3",
   "language": "python",
   "name": "python3"
  },
  "language_info": {
   "codemirror_mode": {
    "name": "ipython",
    "version": 3
   },
   "file_extension": ".py",
   "mimetype": "text/x-python",
   "name": "python",
   "nbconvert_exporter": "python",
   "pygments_lexer": "ipython3",
   "version": "3.5.2"
  }
 },
 "nbformat": 4,
 "nbformat_minor": 1
}
